{
 "cells": [
  {
   "cell_type": "markdown",
   "id": "8910dfe0-2509-4a4a-afbd-d66a9e09c12e",
   "metadata": {},
   "source": [
    "# Problem\n",
    "The new test for solving pde using pytorch:\n",
    "\n",
    "$\n",
    "\\frac{\\partial{u}}{\\partial t} = \\kappa (\\frac{\\partial^2 u}{\\partial{x}^2}+\\frac{\\partial^2 u}{\\partial{y}^2}) + S(x,y,t)\n",
    "$\n",
    "\n",
    "in the square region $0 \\le x \\le 2$ and $ 0 \\le y \\le 2$\n",
    "for the time $0 \\le t \\le 2$\n",
    "\n",
    "Independent variables:\n",
    "* t - time\n",
    "* x - coordinate\n",
    "* y - coordinate\n",
    "\n",
    "Dependent variables output:\n",
    "* u - diffusion species"
   ]
  },
  {
   "cell_type": "code",
   "execution_count": 2,
   "id": "40a91bb9-9e19-47d7-8d0a-8404b5ebb343",
   "metadata": {},
   "outputs": [],
   "source": [
    "import torch\n",
    "import torch.nn as nn\n",
    "from collections import OrderedDict\n",
    "from torch.autograd import Variable\n",
    "device = torch.device(\"cuda:0\" if torch.cuda.is_available() else \"cpu\")"
   ]
  },
  {
   "cell_type": "code",
   "execution_count": 3,
   "id": "a5823ac0-119e-4ac4-ad8d-e7dd2b915c69",
   "metadata": {},
   "outputs": [],
   "source": [
    "import numpy as np"
   ]
  },
  {
   "cell_type": "code",
   "execution_count": 4,
   "id": "bebd0b79-1363-46a0-96a8-0f9548acc145",
   "metadata": {},
   "outputs": [],
   "source": [
    "# rewrite in layer, this is rather boilplate code \n",
    "class DiffNet(nn.Module):\n",
    "    def __init__(self, input_size,hidden_size,\n",
    "                output_size, depth, act=torch.nn.Tanh):\n",
    "        super(DiffNet, self).__init__()\n",
    "        \n",
    "        layers = [('input', torch.nn.Linear(input_size, hidden_size))]\n",
    "        layers.append(('input_activation', act()))\n",
    "        for i in range(depth):\n",
    "            layers.append(\n",
    "                ('hidden_%d' %i, torch.nn.Linear(hidden_size, hidden_size))\n",
    "            )\n",
    "            layers.append(('activation_%d' %i,act()))\n",
    "        layers.append(('output', torch.nn.Linear(hidden_size, output_size)))\n",
    "        \n",
    "        layerDict = OrderedDict(layers)\n",
    "        self.layers = torch.nn.Sequential(layerDict)\n",
    "    \n",
    "    def forward(self, X):\n",
    "        out = self.layers(X)\n",
    "        return out"
   ]
  },
  {
   "cell_type": "markdown",
   "id": "8d246b2d-7335-499d-a059-40aec01436e8",
   "metadata": {},
   "source": [
    "## New layer architecture (Giulio)\n"
   ]
  },
  {
   "cell_type": "code",
   "execution_count": 5,
   "id": "edc352ec-8c36-44c9-ae08-8a35197c3f78",
   "metadata": {},
   "outputs": [],
   "source": [
    "class ComplexHeatEquationNet(torch.nn.Module):\n",
    "    def __init__(self):\n",
    "        super(ComplexHeatEquationNet, self).__init__()\n",
    "        self.fc1 = torch.nn.Linear(3, 512)\n",
    "        self.ln1 = torch.nn.LayerNorm(512)\n",
    "        self.silu1 = torch.nn.SiLU()\n",
    "        self.fc2 = torch.nn.Linear(512, 256)\n",
    "        self.ln2 = torch.nn.LayerNorm(256)\n",
    "        self.silu2 = torch.nn.SiLU()\n",
    "        self.fc3 = torch.nn.Linear(256, 128)\n",
    "        self.ln3 = torch.nn.LayerNorm(128)\n",
    "        self.silu3 = torch.nn.SiLU()\n",
    "        self.fc4 = torch.nn.Linear(128, 64)\n",
    "        self.ln4 = torch.nn.LayerNorm(64)\n",
    "        self.silu4 = torch.nn.SiLU()\n",
    "        self.fc5 = torch.nn.Linear(64, 32)\n",
    "        self.ln5 = torch.nn.LayerNorm(32)\n",
    "        self.silu5 = torch.nn.SiLU()\n",
    "        self.fc6 = torch.nn.Linear(32, 1)\n",
    "\n",
    "    def forward(self, X):\n",
    "        x = self.silu1(self.ln1(self.fc1(X)))\n",
    "        x = self.silu2(self.ln2(self.fc2(x)))\n",
    "        x = self.silu3(self.ln3(self.fc3(x)))\n",
    "        x = self.silu4(self.ln4(self.fc4(x)))\n",
    "        x = self.silu5(self.ln5(self.fc5(x)))\n",
    "        x = self.fc6(x)\n",
    "        return x"
   ]
  },
  {
   "cell_type": "markdown",
   "id": "3e80a2b9-613f-4211-92a3-2fef6fabca81",
   "metadata": {},
   "source": [
    "Material properties for this case:"
   ]
  },
  {
   "cell_type": "code",
   "execution_count": 6,
   "id": "ab6de308-09d6-4682-8d02-d37f1f2f15b6",
   "metadata": {},
   "outputs": [],
   "source": [
    "ρ = 7860; Cp = 624; k = 30.1\n",
    "γ = 2.5e+4; P = 1e+2; r0 = 0.05; y_min=0.0; y_max = 0.1; x_min = 0.0; x_max = 0.1;\n",
    "κ = k/(ρ * Cp)\n",
    "T0 = 300.0"
   ]
  },
  {
   "cell_type": "markdown",
   "id": "b0265deb-6f92-4c67-9877-37cf9e77dfd8",
   "metadata": {},
   "source": [
    "Differential model for this equation is very similar as for one-dimensional case.\n",
    "* predict out based on the coordinates $x, y$ and time $t$."
   ]
  },
  {
   "cell_type": "code",
   "execution_count": 7,
   "id": "3c7606c8-601f-470d-a4f3-6b75059837fb",
   "metadata": {},
   "outputs": [],
   "source": [
    "learn_rate = 0.01\n",
    "class Net:\n",
    "    def __init__(self):\n",
    "        device = torch.device(\"cuda\") if torch.cuda.is_available() else torch.device(\"cpu\")\n",
    "        \n",
    "        # build model\n",
    "        # self.model = DiffNet(\n",
    "        #        input_size=3,\n",
    "        #        hidden_size=128,\n",
    "        #        output_size=1,\n",
    "        #        depth=5,\n",
    "        #        act=torch.nn.Tanh).to(device)\n",
    "        self.model = ComplexHeatEquationNet().to(device)\n",
    "        # Initial and boundary conditions, we first create the \n",
    "        # meshgrid for x and y coordinates. The mesh is regular \n",
    "        # grid with h and k steps.\n",
    "        self.h = 0.005\n",
    "        self.k = 0.005\n",
    "        self.dt = 0.005\n",
    "        \n",
    "        x = torch.arange(0, 0.1 + self.h, self.h)\n",
    "        y = torch.arange(0, 0.1 + self.k, self.k)\n",
    "        t = torch.arange(0, 0.1 + self.dt, self.dt)\n",
    "        \n",
    "        \n",
    "        xmin_bc = torch.stack(torch.meshgrid(x[0],y,t)).reshape(3,-1).T\n",
    "        xmax_bc = torch.stack(torch.meshgrid(x[-1],y,t)).reshape(3,-1).T\n",
    "        ymin_bc = torch.stack(torch.meshgrid(x,y[0],t)).reshape(3,-1).T\n",
    "        ymax_bc = torch.stack(torch.meshgrid(x,y[-1],t)).reshape(3,-1).T\n",
    "        \n",
    "        ic = torch.stack(torch.meshgrid(x,y,t[0])).reshape(3,-1).T\n",
    "        \n",
    "        # make training bcs\n",
    "        # self.bc_train = torch.cat([ic, xmin_bc, xmax_bc, ymin_bc, ymax_bc]) @ivt note this are all boundary conditions\n",
    "        self.bc_train = torch.cat([ic, xmin_bc, xmax_bc, ymin_bc])\n",
    "        self.bc_train = self.bc_train.to(device)\n",
    "        \n",
    "        self.X = torch.stack(torch.meshgrid(x,y,t)).reshape(3,-1).T.to(device)\n",
    "        self.X.requires_grad = True\n",
    "        \n",
    "        self.all_zeros = torch.zeros_like(self.X).to(device)\n",
    "        self.all_zeros.requires_grad = False\n",
    "        \n",
    "        #initial and boundary condition \n",
    "        u_init = torch.zeros(len(ic))\n",
    "        u_xmin = torch.ones(len(xmin_bc))*T0\n",
    "        u_xmax = torch.ones(len(xmax_bc))*T0\n",
    "        u_ymin = torch.ones(len(ymax_bc))*T0\n",
    "        u_ymax = torch.ones(len(ymin_bc))*T0\n",
    "        \n",
    "        # self.u_train = torch.cat([u_init, u_xmin, u_xmax, u_ymin, u_ymax])\n",
    "        self.u_train = torch.cat([u_init, u_xmin, u_xmax, u_ymin])\n",
    "        self.u_train = self.u_train.unsqueeze(1)\n",
    "        self.u_train = self.u_train.to(device)\n",
    "        \n",
    "        self.mse_cost_function = nn.MSELoss()\n",
    "        self.optimizer = torch.optim.LBFGS(self.model.parameters(),lr=learn_rate,max_iter=500,max_eval=50000,\n",
    "                                  history_size=50,tolerance_grad=1e-5,tolerance_change=1.0 * np.finfo(float).eps)\n",
    "        self.optimizer_Adam = torch.optim.Adam(self.model.parameters())\n",
    "        self.iter = 0\n",
    "        \n",
    "    def source(self): \n",
    "        return 2*P/(torch.pi*r0**2)*torch.exp(-2/(r0**2)*((self.X[:,0]-self.X[:,2]*0.02)**2 + (self.X[:,1]-y_max/2)**2))\n",
    "\n",
    "    def f(self):\n",
    "        u = self.model(self.X) \n",
    "             \n",
    "        u_dX = torch.autograd.grad(\n",
    "            u, self.X, \n",
    "            grad_outputs=torch.ones_like(u),\n",
    "            retain_graph=True,\n",
    "            create_graph=True\n",
    "        )[0]\n",
    "        \n",
    "        u_x = u_dX[:,0]\n",
    "        u_y = u_dX[:,1]\n",
    "        u_t = u_dX[:,2]\n",
    "        \n",
    "       \n",
    "        \n",
    "        u_dXX = torch.autograd.grad(\n",
    "            u_dX, self.X, \n",
    "            grad_outputs=torch.ones_like(u_dX),\n",
    "            retain_graph=True,\n",
    "            create_graph=True\n",
    "        )[0]\n",
    "        \n",
    "        u_xx = u_dXX[:,0]\n",
    "        u_yy = u_dXX[:,1]\n",
    "        \n",
    "        return u_t - κ*u_xx - κ*u_yy - self.source()\n",
    "    \n",
    "    def loss_func(self):\n",
    "        self.optimizer.zero_grad()\n",
    "    \n",
    "        # initial and boundary conditions\n",
    "        out = self.model(self.bc_train)\n",
    "        mse_u = self.mse_cost_function(out, self.u_train)\n",
    "        \n",
    "        # fix condition for PDE\n",
    "        out = self.f()\n",
    "        mse_f = self.mse_cost_function(out, torch.zeros_like(out))\n",
    "    \n",
    "        #loss = mse_u + mse_u_xmax + mse_u_xmin + mse_u_ymax + mse_u_ymin + mse_f\n",
    "        loss = mse_f + mse_u\n",
    "        loss.backward()\n",
    "        \n",
    "        if self.iter % 100 == 0:\n",
    "            print(f\" Iter: {self.iter}, loss:{loss.data}\")\n",
    "            \n",
    "        self.iter += 1\n",
    "        return loss\n",
    "        \n",
    "    def train(self,epochs):\n",
    "        for epoch in range(epochs):\n",
    "            self.optimizer_Adam.step(self.loss_func)\n",
    "        self.optimizer.step(self.loss_func)"
   ]
  },
  {
   "cell_type": "code",
   "execution_count": 8,
   "id": "a4073b86-69c1-45af-b7e5-c56bd5cb4dd7",
   "metadata": {},
   "outputs": [
    {
     "name": "stderr",
     "output_type": "stream",
     "text": [
      "C:\\Users\\ivt\\Anaconda3\\lib\\site-packages\\torch\\functional.py:504: UserWarning: torch.meshgrid: in an upcoming release, it will be required to pass the indexing argument. (Triggered internally at C:\\cb\\pytorch_1000000000000\\work\\aten\\src\\ATen\\native\\TensorShape.cpp:3191.)\n",
      "  return _VF.meshgrid(tensors, **kwargs)  # type: ignore[attr-defined]\n"
     ]
    },
    {
     "name": "stdout",
     "output_type": "stream",
     "text": [
      " Iter: 0, loss:66706052.0\n",
      " Iter: 100, loss:65971980.0\n",
      " Iter: 200, loss:66338412.0\n",
      " Iter: 300, loss:66641420.0\n",
      " Iter: 400, loss:64576768.0\n",
      " Iter: 500, loss:63330208.0\n",
      " Iter: 600, loss:61750324.0\n",
      " Iter: 700, loss:60105516.0\n",
      " Iter: 800, loss:58363464.0\n",
      " Iter: 900, loss:56367112.0\n",
      " Iter: 1000, loss:54296144.0\n",
      " Iter: 1100, loss:52183320.0\n",
      " Iter: 1200, loss:50163832.0\n",
      " Iter: 1300, loss:48021212.0\n",
      " Iter: 1400, loss:45464812.0\n",
      " Iter: 1500, loss:43102316.0\n",
      " Iter: 1600, loss:40588280.0\n",
      " Iter: 1700, loss:38534404.0\n",
      " Iter: 1800, loss:36241928.0\n",
      " Iter: 1900, loss:34787780.0\n",
      " Iter: 2000, loss:32068688.0\n",
      " Iter: 2100, loss:30094200.0\n",
      " Iter: 2200, loss:28437560.0\n",
      " Iter: 2300, loss:27218046.0\n",
      " Iter: 2400, loss:24824032.0\n",
      " Iter: 2500, loss:23065502.0\n",
      " Iter: 2600, loss:22272438.0\n",
      " Iter: 2700, loss:21342476.0\n",
      " Iter: 2800, loss:18912518.0\n",
      " Iter: 2900, loss:16790514.0\n",
      " Iter: 3000, loss:19141344.0\n",
      " Iter: 3100, loss:16745629.0\n",
      " Iter: 3200, loss:13556239.0\n",
      " Iter: 3300, loss:12247447.0\n",
      " Iter: 3400, loss:11964810.0\n",
      " Iter: 3500, loss:10604727.0\n",
      " Iter: 3600, loss:10778565.0\n",
      " Iter: 3700, loss:9021664.0\n",
      " Iter: 3800, loss:8440282.0\n",
      " Iter: 3900, loss:7216189.0\n",
      " Iter: 4000, loss:6541723.0\n",
      " Iter: 4100, loss:7205903.0\n",
      " Iter: 4200, loss:5685127.0\n",
      " Iter: 4300, loss:9090265.0\n",
      " Iter: 4400, loss:5433982.0\n",
      " Iter: 4500, loss:4486868.5\n",
      " Iter: 4600, loss:3743154.25\n",
      " Iter: 4700, loss:4383766.5\n",
      " Iter: 4800, loss:2909334.0\n",
      " Iter: 4900, loss:10694271.0\n",
      " Iter: 5000, loss:5884951.5\n",
      " Iter: 5100, loss:3180132.75\n",
      " Iter: 5200, loss:2536255.25\n",
      " Iter: 5300, loss:2112624.75\n",
      " Iter: 5400, loss:1824694.5\n",
      " Iter: 5500, loss:1571571.5\n",
      " Iter: 5600, loss:1349854.375\n",
      " Iter: 5700, loss:1873687.125\n",
      " Iter: 5800, loss:1030079.9375\n",
      " Iter: 5900, loss:912926.8125\n",
      " Iter: 6000, loss:814453.6875\n",
      " Iter: 6100, loss:2295026.5\n",
      " Iter: 6200, loss:648984.9375\n",
      " Iter: 6300, loss:581928.5625\n",
      " Iter: 6400, loss:524057.84375\n",
      " Iter: 6500, loss:472931.46875\n",
      " Iter: 6600, loss:427489.0\n",
      " Iter: 6700, loss:454690.125\n",
      " Iter: 6800, loss:367813.125\n",
      " Iter: 6900, loss:319364.53125\n",
      " Iter: 7000, loss:291257.6875\n",
      " Iter: 7100, loss:265935.75\n",
      " Iter: 7200, loss:242551.3125\n",
      " Iter: 7300, loss:223242.53125\n",
      " Iter: 7400, loss:231368.09375\n",
      " Iter: 7500, loss:194689.28125\n",
      " Iter: 7600, loss:183493.78125\n",
      " Iter: 7700, loss:469260.71875\n",
      " Iter: 7800, loss:164596.359375\n",
      " Iter: 7900, loss:154764.890625\n",
      " Iter: 8000, loss:148004.8125\n",
      " Iter: 8100, loss:142340.703125\n",
      " Iter: 8200, loss:137404.3125\n",
      " Iter: 8300, loss:133026.0625\n",
      " Iter: 8400, loss:129108.546875\n",
      " Iter: 8500, loss:125582.171875\n",
      " Iter: 8600, loss:122391.96875\n",
      " Iter: 8700, loss:141655.640625\n",
      " Iter: 8800, loss:116946.0625\n",
      " Iter: 8900, loss:114976.3046875\n",
      " Iter: 9000, loss:113343.1015625\n",
      " Iter: 9100, loss:209230.6875\n",
      " Iter: 9200, loss:2067416.25\n",
      " Iter: 9300, loss:254630.09375\n",
      " Iter: 9400, loss:189462.515625\n",
      " Iter: 9500, loss:183960.296875\n",
      " Iter: 9600, loss:150895.5\n",
      " Iter: 9700, loss:170311.5\n",
      " Iter: 9800, loss:135255.109375\n",
      " Iter: 9900, loss:133002.625\n",
      " Iter: 10000, loss:134912.859375\n",
      " Iter: 10100, loss:127577.78125\n",
      " Iter: 10200, loss:126677.5234375\n",
      " Iter: 10300, loss:126141.1875\n",
      " Iter: 10400, loss:118635.046875\n"
     ]
    }
   ],
   "source": [
    "net = Net()\n",
    "net.train(10000)"
   ]
  },
  {
   "cell_type": "code",
   "execution_count": 17,
   "id": "02f347e9-50cf-4b1c-a2ed-f35c4393d612",
   "metadata": {},
   "outputs": [
    {
     "name": "stdout",
     "output_type": "stream",
     "text": [
      " Iter: 30800, loss:71318.859375\n",
      " Iter: 30900, loss:71719.0234375\n",
      " Iter: 31000, loss:72573.453125\n",
      " Iter: 31100, loss:71246.171875\n",
      " Iter: 31200, loss:84703.25\n",
      " Iter: 31300, loss:71200.0859375\n",
      " Iter: 31400, loss:96580.5625\n",
      " Iter: 31500, loss:71140.171875\n",
      " Iter: 31600, loss:71163.21875\n",
      " Iter: 31700, loss:71088.1640625\n",
      " Iter: 31800, loss:71128.3359375\n",
      " Iter: 31900, loss:71047.296875\n",
      " Iter: 32000, loss:73563.2265625\n",
      " Iter: 32100, loss:71007.578125\n",
      " Iter: 32200, loss:70977.1484375\n",
      " Iter: 32300, loss:70973.34375\n",
      " Iter: 32400, loss:71622.8515625\n",
      " Iter: 32500, loss:70988.40625\n",
      " Iter: 32600, loss:70888.4296875\n",
      " Iter: 32700, loss:70947.75\n",
      " Iter: 32800, loss:70863.4296875\n",
      " Iter: 32900, loss:71405.1875\n",
      " Iter: 33000, loss:83799.75\n",
      " Iter: 33100, loss:70786.078125\n",
      " Iter: 33200, loss:72979.171875\n",
      " Iter: 33300, loss:89182.59375\n",
      " Iter: 33400, loss:70716.1328125\n",
      " Iter: 33500, loss:70754.5546875\n",
      " Iter: 33600, loss:73119.2734375\n",
      " Iter: 33700, loss:72836.0078125\n",
      " Iter: 33800, loss:81507.484375\n",
      " Iter: 33900, loss:71666.15625\n",
      " Iter: 34000, loss:79786.671875\n",
      " Iter: 34100, loss:72507.78125\n",
      " Iter: 34200, loss:71440.0703125\n",
      " Iter: 34300, loss:75273.4296875\n",
      " Iter: 34400, loss:72383.234375\n",
      " Iter: 34500, loss:71108.6640625\n",
      " Iter: 34600, loss:70475.6484375\n",
      " Iter: 34700, loss:70469.625\n",
      " Iter: 34800, loss:70542.125\n",
      " Iter: 34900, loss:72256.71875\n",
      " Iter: 35000, loss:73772.7109375\n",
      " Iter: 35100, loss:81229.953125\n",
      " Iter: 35200, loss:70370.5703125\n",
      " Iter: 35300, loss:70338.9609375\n",
      " Iter: 35400, loss:70333.9375\n",
      " Iter: 35500, loss:70369.0859375\n",
      " Iter: 35600, loss:74434.4296875\n",
      " Iter: 35700, loss:73168.5859375\n",
      " Iter: 35800, loss:70832.8203125\n",
      " Iter: 35900, loss:70556.15625\n",
      " Iter: 36000, loss:74390.890625\n",
      " Iter: 36100, loss:75076.8125\n",
      " Iter: 36200, loss:72600.3203125\n",
      " Iter: 36300, loss:71773.0\n",
      " Iter: 36400, loss:89193.40625\n",
      " Iter: 36500, loss:70136.1796875\n",
      " Iter: 36600, loss:70097.34375\n",
      " Iter: 36700, loss:70249.28125\n",
      " Iter: 36800, loss:70139.625\n",
      " Iter: 36900, loss:70065.4375\n",
      " Iter: 37000, loss:70991.2734375\n",
      " Iter: 37100, loss:72545.296875\n",
      " Iter: 37200, loss:72279.2578125\n",
      " Iter: 37300, loss:70329.3359375\n",
      " Iter: 37400, loss:70081.21875\n",
      " Iter: 37500, loss:76759.3046875\n",
      " Iter: 37600, loss:70642.2421875\n",
      " Iter: 37700, loss:69875.328125\n",
      " Iter: 37800, loss:69839.0546875\n",
      " Iter: 37900, loss:69967.9765625\n",
      " Iter: 38000, loss:73362.9375\n",
      " Iter: 38100, loss:71674.65625\n",
      " Iter: 38200, loss:69976.46875\n",
      " Iter: 38300, loss:70093.9453125\n",
      " Iter: 38400, loss:70861.734375\n",
      " Iter: 38500, loss:80219.2421875\n",
      " Iter: 38600, loss:70097.9609375\n",
      " Iter: 38700, loss:85422.953125\n",
      " Iter: 38800, loss:70939.2265625\n",
      " Iter: 38900, loss:71614.0\n",
      " Iter: 39000, loss:70370.9140625\n",
      " Iter: 39100, loss:69607.0390625\n",
      " Iter: 39200, loss:70118.9921875\n",
      " Iter: 39300, loss:83105.3359375\n",
      " Iter: 39400, loss:75880.890625\n",
      " Iter: 39500, loss:69296.0546875\n",
      " Iter: 39600, loss:77200.6796875\n",
      " Iter: 39700, loss:72590.828125\n",
      " Iter: 39800, loss:69898.8828125\n",
      " Iter: 39900, loss:76710.328125\n",
      " Iter: 40000, loss:68923.0625\n",
      " Iter: 40100, loss:69180.3203125\n",
      " Iter: 40200, loss:72007.71875\n",
      " Iter: 40300, loss:68636.3125\n",
      " Iter: 40400, loss:69920.421875\n",
      " Iter: 40500, loss:69606.59375\n",
      " Iter: 40600, loss:68344.46875\n",
      " Iter: 40700, loss:70189.078125\n",
      " Iter: 40800, loss:75947.4140625\n",
      " Iter: 40900, loss:69495.9296875\n",
      " Iter: 41000, loss:67990.9765625\n",
      " Iter: 41100, loss:67622.1015625\n",
      " Iter: 41200, loss:67424.375\n"
     ]
    }
   ],
   "source": [
    "net.train(10000)"
   ]
  },
  {
   "cell_type": "code",
   "execution_count": 109,
   "id": "112e3da5-a17d-4696-a3c3-57f5e807c09a",
   "metadata": {},
   "outputs": [
    {
     "data": {
      "text/plain": [
       "tensor([0.0000, 0.0100, 0.0200, 0.0300, 0.0400, 0.0500, 0.0600, 0.0700, 0.0800,\n",
       "        0.0900])"
      ]
     },
     "execution_count": 109,
     "metadata": {},
     "output_type": "execute_result"
    }
   ],
   "source": [
    "torch.arange(0,0.1,0.01)"
   ]
  },
  {
   "cell_type": "code",
   "execution_count": 18,
   "id": "9e845d54-5d2b-4314-a19d-c2a16028c22c",
   "metadata": {},
   "outputs": [
    {
     "name": "stdout",
     "output_type": "stream",
     "text": [
      "shape: (21, 21, 21)\n"
     ]
    },
    {
     "data": {
      "image/png": "[encoded data removed]",
      "text/plain": [
       "<Figure size 640x480 with 2 Axes>"
      ]
     },
     "metadata": {},
     "output_type": "display_data"
    }
   ],
   "source": [
    "from mpl_toolkits.mplot3d import Axes3D\n",
    "import matplotlib.pyplot as plt\n",
    "from matplotlib import cm\n",
    "from matplotlib.ticker import LinearLocator, FormatStrFormatter\n",
    "\n",
    "\n",
    "fig = plt.figure()\n",
    "ax = plt.axes(projection='3d')\n",
    "dx = 0.005\n",
    "x = torch.arange(0,0.1+dx,dx)\n",
    "y = torch.arange(0,0.1+dx,dx)\n",
    "t = torch.ones_like(x)*0.1\n",
    "X = torch.stack(torch.meshgrid(x,y,t)).reshape(3,-1).T.to(device)\n",
    "\n",
    "\n",
    "u_pred = net.model(X)\n",
    "um = u_pred.data.cpu().numpy()\n",
    "um = um.reshape(21,21,21)\n",
    "\n",
    "x = np.arange(0,0.1+dx,dx)\n",
    "y = np.arange(0,0.1+dx,dx)\n",
    "xm, ym = np.meshgrid(x,y)\n",
    "\n",
    "print(f\"shape: {um.shape}\")\n",
    "\n",
    "surf = ax.plot_surface(xm, ym, um[:,:,3], cmap=cm.coolwarm, linewidth=0, antialiased=False)\n",
    "\n",
    "ax.zaxis.set_major_locator(LinearLocator(10))\n",
    "ax.zaxis.set_major_formatter(FormatStrFormatter('%.02f'))\n",
    "ax.set_ylabel(\"y coord\")\n",
    "ax.set_xlabel(\"x coord\")\n",
    "fig.colorbar(surf, shrink=.5, aspect=5)\n",
    "plt.show()"
   ]
  },
  {
   "cell_type": "code",
   "execution_count": 151,
   "id": "1bb1add5-4c2d-4127-8eda-ec8a5c8c136a",
   "metadata": {},
   "outputs": [
    {
     "ename": "TypeError",
     "evalue": "mean() received an invalid combination of arguments - got (axis=NoneType, dtype=NoneType, out=NoneType, ), but expected one of:\n * (*, torch.dtype dtype)\n * (tuple of ints dim, bool keepdim, *, torch.dtype dtype)\n * (tuple of names dim, bool keepdim, *, torch.dtype dtype)\n",
     "output_type": "error",
     "traceback": [
      "\u001b[1;31m---------------------------------------------------------------------------\u001b[0m",
      "\u001b[1;31mTypeError\u001b[0m                                 Traceback (most recent call last)",
      "\u001b[1;32m~\\AppData\\Local\\Temp\\ipykernel_3288\\3477677899.py\u001b[0m in \u001b[0;36m<module>\u001b[1;34m\u001b[0m\n\u001b[0;32m      2\u001b[0m     \u001b[1;32mreturn\u001b[0m \u001b[0mnp\u001b[0m\u001b[1;33m.\u001b[0m\u001b[0mexp\u001b[0m\u001b[1;33m(\u001b[0m\u001b[0mx\u001b[0m \u001b[1;33m+\u001b[0m \u001b[0my\u001b[0m\u001b[1;33m)\u001b[0m \u001b[1;33m*\u001b[0m \u001b[0mnp\u001b[0m\u001b[1;33m.\u001b[0m\u001b[0mcos\u001b[0m\u001b[1;33m(\u001b[0m\u001b[0mx\u001b[0m \u001b[1;33m+\u001b[0m \u001b[0my\u001b[0m \u001b[1;33m+\u001b[0m \u001b[1;36m4\u001b[0m\u001b[1;33m*\u001b[0m\u001b[0mt\u001b[0m\u001b[1;33m)\u001b[0m\u001b[1;33m\u001b[0m\u001b[1;33m\u001b[0m\u001b[0m\n\u001b[0;32m      3\u001b[0m \u001b[0manal_sol\u001b[0m \u001b[1;33m=\u001b[0m \u001b[0msolution\u001b[0m\u001b[1;33m(\u001b[0m\u001b[0mx\u001b[0m\u001b[1;33m,\u001b[0m\u001b[0my\u001b[0m\u001b[1;33m,\u001b[0m\u001b[1;36m2\u001b[0m\u001b[1;33m)\u001b[0m\u001b[1;33m\u001b[0m\u001b[1;33m\u001b[0m\u001b[0m\n\u001b[1;32m----> 4\u001b[1;33m \u001b[0mmse\u001b[0m\u001b[1;33m=\u001b[0m\u001b[0mnp\u001b[0m\u001b[1;33m.\u001b[0m\u001b[0mmean\u001b[0m\u001b[1;33m(\u001b[0m\u001b[1;33m(\u001b[0m\u001b[0manal_sol\u001b[0m\u001b[1;33m-\u001b[0m\u001b[0mu_pred\u001b[0m\u001b[1;33m.\u001b[0m\u001b[0mdata\u001b[0m\u001b[1;33m.\u001b[0m\u001b[0mcpu\u001b[0m\u001b[1;33m(\u001b[0m\u001b[1;33m)\u001b[0m\u001b[1;33m.\u001b[0m\u001b[0mnumpy\u001b[0m\u001b[1;33m(\u001b[0m\u001b[1;33m)\u001b[0m\u001b[1;33m)\u001b[0m\u001b[1;33m**\u001b[0m\u001b[1;36m2\u001b[0m\u001b[1;33m)\u001b[0m\u001b[1;33m\u001b[0m\u001b[1;33m\u001b[0m\u001b[0m\n\u001b[0m",
      "\u001b[1;32m<__array_function__ internals>\u001b[0m in \u001b[0;36mmean\u001b[1;34m(*args, **kwargs)\u001b[0m\n",
      "\u001b[1;32m~\\Anaconda3\\lib\\site-packages\\numpy\\core\\fromnumeric.py\u001b[0m in \u001b[0;36mmean\u001b[1;34m(a, axis, dtype, out, keepdims, where)\u001b[0m\n\u001b[0;32m   3436\u001b[0m             \u001b[1;32mpass\u001b[0m\u001b[1;33m\u001b[0m\u001b[1;33m\u001b[0m\u001b[0m\n\u001b[0;32m   3437\u001b[0m         \u001b[1;32melse\u001b[0m\u001b[1;33m:\u001b[0m\u001b[1;33m\u001b[0m\u001b[1;33m\u001b[0m\u001b[0m\n\u001b[1;32m-> 3438\u001b[1;33m             \u001b[1;32mreturn\u001b[0m \u001b[0mmean\u001b[0m\u001b[1;33m(\u001b[0m\u001b[0maxis\u001b[0m\u001b[1;33m=\u001b[0m\u001b[0maxis\u001b[0m\u001b[1;33m,\u001b[0m \u001b[0mdtype\u001b[0m\u001b[1;33m=\u001b[0m\u001b[0mdtype\u001b[0m\u001b[1;33m,\u001b[0m \u001b[0mout\u001b[0m\u001b[1;33m=\u001b[0m\u001b[0mout\u001b[0m\u001b[1;33m,\u001b[0m \u001b[1;33m**\u001b[0m\u001b[0mkwargs\u001b[0m\u001b[1;33m)\u001b[0m\u001b[1;33m\u001b[0m\u001b[1;33m\u001b[0m\u001b[0m\n\u001b[0m\u001b[0;32m   3439\u001b[0m \u001b[1;33m\u001b[0m\u001b[0m\n\u001b[0;32m   3440\u001b[0m     return _methods._mean(a, axis=axis, dtype=dtype,\n",
      "\u001b[1;31mTypeError\u001b[0m: mean() received an invalid combination of arguments - got (axis=NoneType, dtype=NoneType, out=NoneType, ), but expected one of:\n * (*, torch.dtype dtype)\n * (tuple of ints dim, bool keepdim, *, torch.dtype dtype)\n * (tuple of names dim, bool keepdim, *, torch.dtype dtype)\n"
     ]
    }
   ],
   "source": [
    "def solution(x,y,t):\n",
    "    return np.exp(x + y) * np.cos(x + y + 4*t)\n",
    "anal_sol = solution(x,y,2)\n",
    "mse=np.mean((anal_sol-u_pred.data.cpu().numpy())**2)\n"
   ]
  },
  {
   "cell_type": "code",
   "execution_count": 18,
   "id": "d035d0c7-aa15-426c-aee2-31aadfcb29be",
   "metadata": {},
   "outputs": [
    {
     "data": {
      "text/plain": [
       "1.7507350066943392"
      ]
     },
     "execution_count": 18,
     "metadata": {},
     "output_type": "execute_result"
    }
   ],
   "source": [
    "mse"
   ]
  },
  {
   "cell_type": "code",
   "execution_count": 176,
   "id": "3e15b18c-d26c-4328-b927-40e4eacccabe",
   "metadata": {},
   "outputs": [
    {
     "data": {
      "text/plain": [
       "21"
      ]
     },
     "execution_count": 176,
     "metadata": {},
     "output_type": "execute_result"
    }
   ],
   "source": [
    "x.shape[0]"
   ]
  },
  {
   "cell_type": "code",
   "execution_count": 178,
   "id": "87ee67c3-38e1-4bf6-9b58-be3a9aea23b0",
   "metadata": {},
   "outputs": [
    {
     "data": {
      "text/plain": [
       "torch.Size([9261, 1])"
      ]
     },
     "execution_count": 178,
     "metadata": {},
     "output_type": "execute_result"
    }
   ],
   "source": [
    "u_pred.shape"
   ]
  },
  {
   "cell_type": "code",
   "execution_count": null,
   "id": "875b459e-330b-4a82-a13e-f2fa803f2c4b",
   "metadata": {},
   "outputs": [],
   "source": []
  }
 ],
 "metadata": {
  "kernelspec": {
   "display_name": "Python 3 (ipykernel)",
   "language": "python",
   "name": "python3"
  },
  "language_info": {
   "codemirror_mode": {
    "name": "ipython",
    "version": 3
   },
   "file_extension": ".py",
   "mimetype": "text/x-python",
   "name": "python",
   "nbconvert_exporter": "python",
   "pygments_lexer": "ipython3",
   "version": "3.9.13"
  }
 },
 "nbformat": 4,
 "nbformat_minor": 5
}
