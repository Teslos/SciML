{
 "cells": [
  {
   "cell_type": "markdown",
   "id": "8910dfe0-2509-4a4a-afbd-d66a9e09c12e",
   "metadata": {},
   "source": [
    "# Problem\n",
    "The new test for solving pde using pytorch:\n",
    "\n",
    "$\n",
    "\\frac{\\partial{u}}{\\partial t} = \\kappa (\\frac{\\partial^2 u}{\\partial{x}^2}+\\frac{\\partial^2 u}{\\partial{y}^2}) + S(x,y,t)\n",
    "$\n",
    "\n",
    "in the square region $0 \\le x \\le 2$ and $ 0 \\le y \\le 2$\n",
    "for the time $0 \\le t \\le 2$\n",
    "\n",
    "Independent variables:\n",
    "* t - time\n",
    "* x - coordinate\n",
    "* y - coordinate\n",
    "\n",
    "Dependent variables output:\n",
    "* u - diffusion species"
   ]
  },
  {
   "cell_type": "code",
   "execution_count": 1,
   "id": "40a91bb9-9e19-47d7-8d0a-8404b5ebb343",
   "metadata": {},
   "outputs": [],
   "source": [
    "import torch\n",
    "import torch.nn as nn\n",
    "from pyDOE import lhs\n",
    "from collections import OrderedDict\n",
    "from torch.autograd import Variable\n",
    "device = torch.device(\"cuda:0\" if torch.cuda.is_available() else \"cpu\")"
   ]
  },
  {
   "cell_type": "code",
   "execution_count": 3,
   "id": "a5823ac0-119e-4ac4-ad8d-e7dd2b915c69",
   "metadata": {},
   "outputs": [],
   "source": [
    "import numpy as np\n",
    "#Set default dtype to float32\n",
    "torch.set_default_dtype(torch.float)\n"
   ]
  },
  {
   "cell_type": "code",
   "execution_count": 4,
   "id": "d91ad45f",
   "metadata": {},
   "outputs": [
    {
     "data": {
      "text/plain": [
       "device(type='cuda', index=0)"
      ]
     },
     "execution_count": 4,
     "metadata": {},
     "output_type": "execute_result"
    }
   ],
   "source": [
    "device\n"
   ]
  },
  {
   "cell_type": "code",
   "execution_count": 59,
   "id": "7c1231bc-16dd-4528-8e08-cea8940024a2",
   "metadata": {},
   "outputs": [],
   "source": [
    "batch_size = 4096*4\n",
    "block_size = 8\n",
    "batch_size * block_size\n",
    "Nc = 256*256"
   ]
  },
  {
   "cell_type": "code",
   "execution_count": 60,
   "id": "e635ad11",
   "metadata": {},
   "outputs": [],
   "source": [
    "class Sampler:\n",
    "    # Initialize the class\n",
    "    def __init__(self, dim, coords, func, name=None):\n",
    "        \n",
    "        self.dim = dim\n",
    "        self.coords = coords\n",
    "        self.func = func\n",
    "        self.name = name\n",
    "        # create samples using  latin cube sampling\n",
    "        self.x = self.coords[0:1, :] + (self.coords[1:2, :] - self.coords[0:1, :]) * lhs(self.dim, Nc)\n",
    "        self.y = self.func(self.x)\n",
    "\n",
    "    def sample(self, N):\n",
    "        ix = np.random.randint(Nc, size=(N,))\n",
    "        x = self.x[ix]\n",
    "        y = self.y[ix]\n",
    "        return x, y"
   ]
  },
  {
   "cell_type": "code",
   "execution_count": 61,
   "id": "80991a0c",
   "metadata": {},
   "outputs": [],
   "source": [
    "def u(x, a_1, a_2):\n",
    "        return np.sin(a_1 * np.pi * x[:, 0:1]) * np.sin(a_2 * np.pi * x[:, 1:2])\n",
    "def ub(x):\n",
    "    return np.ones((x.shape[0],1))*300.\n",
    "\n",
    "def zero_fun(x):\n",
    "    return np.zeros((x.shape[0],1))\n"
   ]
  },
  {
   "cell_type": "code",
   "execution_count": 62,
   "id": "a23414cf",
   "metadata": {},
   "outputs": [],
   "source": [
    "\n",
    "y_min=0.0; y_max = 0.1; x_min = 0.0; x_max = 0.1;\n",
    "\n",
    "bc1_coords = np.array([[x_min, y_min, 0.0],\n",
    "                    [x_max, y_min, 1.0]], dtype='float32')\n",
    "bc2_coords = np.array([[x_max, y_min, 0.0],\n",
    "                    [x_max, y_max, 1.0]],dtype='float32')\n",
    "bc3_coords = np.array([[x_max, y_max, 0.0],\n",
    "                    [x_min, y_max, 1.0]],dtype='float32')\n",
    "bc4_coords = np.array([[x_min, y_max, 0.0],\n",
    "                    [x_min, y_min, 1.0]],dtype='float32')\n",
    "\n",
    "dom_coords = np.array([[x_min, y_min, 0.0],\n",
    "                       [x_max, y_max, 1.0]],dtype='float32')\n",
    "\n",
    "bc1 = Sampler(3, bc1_coords, lambda x: ub(x), name='Dirichlet BC1')\n",
    "bc2 = Sampler(3, bc2_coords, lambda x: ub(x), name='Dirichlet BC1')\n",
    "bc3 = Sampler(3, bc3_coords, lambda x: ub(x), name='Dirichlet BC1')\n",
    "bc4 = Sampler(3, bc4_coords, lambda x: ub(x), name='Dirichlet BC1')\n",
    "bcs_sampler = [bc1,bc2,bc3,bc4]\n",
    "\n",
    "res_sampler = Sampler(3, dom_coords, lambda x: zero_fun(x), name='Zero condition')"
   ]
  },
  {
   "cell_type": "code",
   "execution_count": 63,
   "id": "b2e1995c",
   "metadata": {},
   "outputs": [
    {
     "data": {
      "text/plain": [
       "array([[0.00621981, 0.1       , 0.28954691],\n",
       "       [0.05639128, 0.1       , 0.98275485],\n",
       "       [0.04268777, 0.1       , 0.18918034],\n",
       "       [0.05588144, 0.1       , 0.53581425],\n",
       "       [0.05325031, 0.1       , 0.72251908],\n",
       "       [0.0322075 , 0.1       , 0.17758534],\n",
       "       [0.03900185, 0.1       , 0.65530719],\n",
       "       [0.09131813, 0.1       , 0.01197478],\n",
       "       [0.03318982, 0.1       , 0.41260541],\n",
       "       [0.0971336 , 0.1       , 0.57403607]])"
      ]
     },
     "execution_count": 63,
     "metadata": {},
     "output_type": "execute_result"
    }
   ],
   "source": [
    "bc3.sample(10)[0]\n"
   ]
  },
  {
   "cell_type": "markdown",
   "id": "8d246b2d-7335-499d-a059-40aec01436e8",
   "metadata": {},
   "source": [
    "## New layer architecture (Giulio)\n"
   ]
  },
  {
   "cell_type": "code",
   "execution_count": 64,
   "id": "edc352ec-8c36-44c9-ae08-8a35197c3f78",
   "metadata": {},
   "outputs": [],
   "source": [
    "class ComplexHeatEquationNet(torch.nn.Module):\n",
    "    def __init__(self):\n",
    "        super(ComplexHeatEquationNet, self).__init__()\n",
    "        self.fc1 = torch.nn.Linear(3, 512)\n",
    "        self.ln1 = torch.nn.LayerNorm(512)\n",
    "        self.silu1 = torch.nn.SiLU()\n",
    "        self.fc2 = torch.nn.Linear(512, 256)\n",
    "        self.ln2 = torch.nn.LayerNorm(256)\n",
    "        self.silu2 = torch.nn.SiLU()\n",
    "        self.fc3 = torch.nn.Linear(256, 128)\n",
    "        self.ln3 = torch.nn.LayerNorm(128)\n",
    "        self.silu3 = torch.nn.SiLU()\n",
    "        self.fc4 = torch.nn.Linear(128, 64)\n",
    "        self.ln4 = torch.nn.LayerNorm(64)\n",
    "        self.silu4 = torch.nn.SiLU()\n",
    "        self.fc5 = torch.nn.Linear(64, 32)\n",
    "        self.ln5 = torch.nn.LayerNorm(32)\n",
    "        self.silu5 = torch.nn.SiLU()\n",
    "        self.fc6 = torch.nn.Linear(32, 1)\n",
    "\n",
    "    def forward(self, X):\n",
    "        #print(f\"shape X: {X.shape}\")\n",
    "        x = self.silu1(self.ln1(self.fc1(X)))\n",
    "        x = self.silu2(self.ln2(self.fc2(x)))\n",
    "        x = self.silu3(self.ln3(self.fc3(x)))\n",
    "        x = self.silu4(self.ln4(self.fc4(x)))\n",
    "        x = self.silu5(self.ln5(self.fc5(x)))\n",
    "        x = self.fc6(x)\n",
    "        return x"
   ]
  },
  {
   "cell_type": "code",
   "execution_count": 65,
   "id": "0e7b5035",
   "metadata": {},
   "outputs": [],
   "source": [
    "class ComplexHeatEquationNetNew(torch.nn.Module):\n",
    "    def __init__(self):\n",
    "        super(ComplexHeatEquationNetNew, self).__init__()\n",
    "        self.fc1 = torch.nn.Linear(3, 512)\n",
    "        self.fc2 = torch.nn.Linear(512, 2048)\n",
    "        self.fc3 = torch.nn.Linear(2048, 1024)\n",
    "        self.fc4 = torch.nn.Linear(1024, 512)\n",
    "        self.fc5 = torch.nn.Linear(512, 2048)\n",
    "        self.fc6 = torch.nn.Linear(2048, 1024)\n",
    "        self.fc7 = torch.nn.Linear(1024, 512)\n",
    "        self.fc8 = torch.nn.Linear(512, 1)\n",
    "\n",
    "        # Xavier initialization\n",
    "        torch.nn.init.xavier_normal_(self.fc1.weight)\n",
    "        torch.nn.init.xavier_normal_(self.fc2.weight)\n",
    "        torch.nn.init.xavier_normal_(self.fc3.weight)\n",
    "        torch.nn.init.xavier_normal_(self.fc4.weight)\n",
    "        torch.nn.init.xavier_normal_(self.fc5.weight)\n",
    "        torch.nn.init.xavier_normal_(self.fc6.weight)\n",
    "        torch.nn.init.xavier_normal_(self.fc7.weight)\n",
    "        torch.nn.init.xavier_normal_(self.fc8.weight)\n",
    "        \n",
    "        # Zero initialization\n",
    "        torch.nn.init.zeros_(self.fc1.bias)\n",
    "        torch.nn.init.zeros_(self.fc2.bias)\n",
    "        torch.nn.init.zeros_(self.fc3.bias)\n",
    "        torch.nn.init.zeros_(self.fc4.bias)\n",
    "        torch.nn.init.zeros_(self.fc5.bias)\n",
    "        torch.nn.init.zeros_(self.fc6.bias)\n",
    "        torch.nn.init.zeros_(self.fc7.bias)\n",
    "        torch.nn.init.zeros_(self.fc8.bias)\n",
    "\n",
    "    def forward(self, X):\n",
    "        x = torch.nn.SiLU()(self.fc1(X)) #512\n",
    "        \n",
    "        # Residual block 1\n",
    "        x1 = torch.nn.SiLU()(self.fc2(x)) #1024\n",
    "        x2 = torch.nn.SiLU()(self.fc3(x1)) #2048\n",
    "        x2 = self.fc4(x2)  # note: no activation here #512\n",
    "        x = x + x2         #512\n",
    "        \n",
    "        # Residual block 2\n",
    "        x1 = torch.nn.SiLU()(self.fc5(x)) #1024\n",
    "        x2 = torch.nn.SiLU()(self.fc6(x1)) #2048\n",
    "        x2 = self.fc7(x2)  # note: no activation here #512\n",
    "        x = x + x2\n",
    "        \n",
    "        return self.fc8(x)\n"
   ]
  },
  {
   "cell_type": "markdown",
   "id": "3e80a2b9-613f-4211-92a3-2fef6fabca81",
   "metadata": {},
   "source": [
    "Material properties for this case:"
   ]
  },
  {
   "cell_type": "code",
   "execution_count": 66,
   "id": "ab6de308-09d6-4682-8d02-d37f1f2f15b6",
   "metadata": {},
   "outputs": [],
   "source": [
    "ρ = 7860; Cp = 624; k = 30.1\n",
    "γ = 2.5e+4; P = 1e+5; r0 = 0.005; \n",
    "κ = k/(ρ * Cp)\n",
    "T0 = 300.0"
   ]
  },
  {
   "cell_type": "markdown",
   "id": "b0265deb-6f92-4c67-9877-37cf9e77dfd8",
   "metadata": {},
   "source": [
    "Differential model for this equation is very similar as for one-dimensional case.\n",
    "* predict out based on the coordinates $x, y$ and time $t$."
   ]
  },
  {
   "cell_type": "code",
   "execution_count": 67,
   "id": "3c7606c8-601f-470d-a4f3-6b75059837fb",
   "metadata": {},
   "outputs": [],
   "source": [
    "learn_rate = 0.01\n",
    "class Net:\n",
    "    def __init__(self, ics_sampler, bcs_sampler, res_sampler):\n",
    "        device = torch.device(\"cuda\") if torch.cuda.is_available() else torch.device(\"cpu\")\n",
    "        #device = 'cpu'\n",
    "        # build model\n",
    "        # self.model = DiffNet(\n",
    "        #        input_size=3,\n",
    "        #        hidden_size=128,\n",
    "        #        output_size=1,\n",
    "        #        depth=5,\n",
    "        #        act=torch.nn.Tanh).to(device)\n",
    "        self.model = ComplexHeatEquationNetNew().to(device)\n",
    "        \n",
    "        # Samplers\n",
    "        self.ics_sampler = ics_sampler\n",
    "        self.bcs_sampler = bcs_sampler\n",
    "        self.res_sampler = res_sampler\n",
    "        \n",
    "        self.mse_cost_function = nn.MSELoss()\n",
    "        self.optimizer = torch.optim.LBFGS(self.model.parameters(),lr=learn_rate,max_iter=500,max_eval=50000,\n",
    "                                  history_size=50,tolerance_grad=1e-5,tolerance_change=1.0 * np.finfo(float).eps)\n",
    "        self.optimizer_Adam = torch.optim.Adam(self.model.parameters())\n",
    "        self.isLBFGS = False\n",
    "        self.iter = 0\n",
    "        \n",
    "    def source(self): \n",
    "        return 1.0/(ρ * Cp)* 2*P/(torch.pi*r0**2)*torch.exp(-2/(r0**2)*((self.X[:,0]-self.X[:,2]*0.02)**2 + (self.X[:,1]-y_max/2)**2))\n",
    "\n",
    "    def f(self):\n",
    "        u = self.model(self.X) \n",
    "        #print(f\"u: {u.shape}\")    \n",
    "        u_dX = torch.autograd.grad(\n",
    "            u, self.X, \n",
    "            grad_outputs=torch.ones_like(u),\n",
    "            retain_graph=True,\n",
    "            create_graph=True\n",
    "        )[0]\n",
    "        \n",
    "        u_x = u_dX[:,0]\n",
    "        u_y = u_dX[:,1]\n",
    "        u_t = u_dX[:,2]\n",
    "        \n",
    "        u_dXX = torch.autograd.grad(\n",
    "            u_dX, self.X, \n",
    "            grad_outputs=torch.ones_like(u_dX),\n",
    "            retain_graph=True,\n",
    "            create_graph=True\n",
    "        )[0]\n",
    "        \n",
    "        u_xx = u_dXX[:,0]\n",
    "        u_yy = u_dXX[:,1]\n",
    "        \n",
    "        return u_t - κ*u_xx - κ*u_yy - self.source()\n",
    "    \n",
    "    def loss_func(self):\n",
    "        \n",
    "        if self.isLBFGS: \n",
    "            self.optimizer.zero_grad()\n",
    "        else:\n",
    "            self.optimizer_Adam.zero_grad()\n",
    "    \n",
    "        # initial and boundary conditions\n",
    "        out = self.model(self.bc_train)\n",
    "        mse_u = self.mse_cost_function(out, self.u_train)\n",
    "        \n",
    "        # fix condition for PDE\n",
    "        out = self.f()\n",
    "        mse_f = self.mse_cost_function(out, torch.zeros_like(out))\n",
    "    \n",
    "        #loss = mse_u + mse_u_xmax + mse_u_xmin + mse_u_ymax + mse_u_ymin + mse_f\n",
    "        loss = mse_f + mse_u\n",
    "        #loss = mse_f\n",
    "        loss.backward()\n",
    "        \n",
    "        if self.iter % 100 == 0:\n",
    "            print(f\" Iter: {self.iter}, loss:{loss.data}\")\n",
    "            \n",
    "        self.iter += 1\n",
    "        return loss\n",
    "    \n",
    "    def fetch_minibatch(self, sampler, N):\n",
    "        X, Y = sampler.sample(N)\n",
    "        #X = (X - self.mu_X) / self.sigma_X\n",
    "        return X, Y\n",
    "    \n",
    "    def train(self,epochs, batch_size):\n",
    "        for epoch in range(epochs):\n",
    "            # fetch boundary mini-batches\n",
    "            x_bc1_batch, u_bc1_batch = self.fetch_minibatch(self.bcs_sampler[0], batch_size)\n",
    "            x_bc2_batch, u_bc2_batch = self.fetch_minibatch(self.bcs_sampler[1], batch_size)\n",
    "            x_bc3_batch, u_bc3_batch = self.fetch_minibatch(self.bcs_sampler[2], batch_size)\n",
    "            x_bc4_batch, u_bc4_batch = self.fetch_minibatch(self.bcs_sampler[3], batch_size)\n",
    "            bc_train = [x_bc1_batch,x_bc2_batch,x_bc3_batch,x_bc4_batch]\n",
    "            u_train  = [u_bc1_batch,u_bc2_batch,u_bc3_batch,u_bc4_batch]\n",
    "            self.bc_train = torch.cat([torch.from_numpy(bc).float() for bc in bc_train])\n",
    "            self.u_train  = torch.cat([torch.from_numpy(t).float() for t in u_train])\n",
    "            \n",
    "            self.u_train  = self.u_train.to(device)\n",
    "            self.bc_train = self.bc_train.to(device)\n",
    "            \n",
    "            X_batch, _ = self.fetch_minibatch(self.res_sampler, batch_size) \n",
    "            self.X = torch.from_numpy(X_batch).float()\n",
    "            self.X = self.X.to(device)\n",
    "            \n",
    "            self.X.requires_grad = True\n",
    "            \n",
    "            self.optimizer_Adam.step(self.loss_func)\n",
    "            \n",
    "        self.isLBFGS = True\n",
    "        self.optimizer.step(self.loss_func)"
   ]
  },
  {
   "cell_type": "code",
   "execution_count": 68,
   "id": "a4073b86-69c1-45af-b7e5-c56bd5cb4dd7",
   "metadata": {},
   "outputs": [
    {
     "name": "stdout",
     "output_type": "stream",
     "text": [
      " Iter: 0, loss:90504.296875\n",
      " Iter: 100, loss:510.1492614746094\n",
      " Iter: 200, loss:427.8199768066406\n",
      " Iter: 300, loss:483.47161865234375\n",
      " Iter: 400, loss:557.33642578125\n",
      " Iter: 500, loss:485.9374084472656\n",
      " Iter: 600, loss:537.3226318359375\n",
      " Iter: 700, loss:560.4596557617188\n",
      " Iter: 800, loss:553.2643432617188\n",
      " Iter: 900, loss:582.5886840820312\n",
      " Iter: 1000, loss:436.0527648925781\n",
      " Iter: 1100, loss:435.9846496582031\n",
      " Iter: 1200, loss:434.8219299316406\n",
      " Iter: 1300, loss:434.5201416015625\n",
      " Iter: 1400, loss:433.52716064453125\n"
     ]
    }
   ],
   "source": [
    "net = Net(None, bcs_sampler, res_sampler)\n",
    "net.train(1000,batch_size)"
   ]
  },
  {
   "cell_type": "code",
   "execution_count": 71,
   "id": "02f347e9-50cf-4b1c-a2ed-f35c4393d612",
   "metadata": {
    "scrolled": false
   },
   "outputs": [
    {
     "name": "stdout",
     "output_type": "stream",
     "text": [
      " Iter: 3000, loss:456.8570251464844\n",
      " Iter: 3100, loss:495.1327209472656\n",
      " Iter: 3200, loss:387.49273681640625\n",
      " Iter: 3300, loss:414.8277893066406\n",
      " Iter: 3400, loss:472.541015625\n",
      " Iter: 3500, loss:65860.8984375\n",
      " Iter: 3600, loss:66312.4375\n",
      " Iter: 3700, loss:36491.6640625\n",
      " Iter: 3800, loss:3042.016357421875\n",
      " Iter: 3900, loss:1468.8406982421875\n",
      " Iter: 4000, loss:1063.5675048828125\n",
      " Iter: 4100, loss:984.1660766601562\n",
      " Iter: 4200, loss:865.016357421875\n",
      " Iter: 4300, loss:810.1973876953125\n",
      " Iter: 4400, loss:623.710205078125\n",
      " Iter: 4500, loss:611.39453125\n",
      " Iter: 4600, loss:640.5203857421875\n",
      " Iter: 4700, loss:602.2079467773438\n",
      " Iter: 4800, loss:628.8502807617188\n",
      " Iter: 4900, loss:709.0476684570312\n",
      " Iter: 5000, loss:563.6091918945312\n",
      " Iter: 5100, loss:897.3350219726562\n",
      " Iter: 5200, loss:400.3477783203125\n",
      " Iter: 5300, loss:572.7910766601562\n",
      " Iter: 5400, loss:551.1687622070312\n",
      " Iter: 5500, loss:547.2655029296875\n",
      " Iter: 5600, loss:475.9059753417969\n",
      " Iter: 5700, loss:561.2360229492188\n",
      " Iter: 5800, loss:951.2708129882812\n",
      " Iter: 5900, loss:522.652587890625\n",
      " Iter: 6000, loss:530.5565795898438\n",
      " Iter: 6100, loss:547.7879638671875\n",
      " Iter: 6200, loss:537.7824096679688\n",
      " Iter: 6300, loss:457.5670166015625\n",
      " Iter: 6400, loss:553.869384765625\n",
      " Iter: 6500, loss:490.5086669921875\n",
      " Iter: 6600, loss:546.11279296875\n",
      " Iter: 6700, loss:458.5566711425781\n",
      " Iter: 6800, loss:537.123291015625\n",
      " Iter: 6900, loss:549.2760620117188\n",
      " Iter: 7000, loss:507.1856384277344\n",
      " Iter: 7100, loss:514.2364501953125\n",
      " Iter: 7200, loss:554.727294921875\n",
      " Iter: 7300, loss:638.9755249023438\n",
      " Iter: 7400, loss:432.6259460449219\n",
      " Iter: 7500, loss:606.7562866210938\n",
      " Iter: 7600, loss:445.81951904296875\n",
      " Iter: 7700, loss:726.5320434570312\n",
      " Iter: 7800, loss:518.3566284179688\n",
      " Iter: 7900, loss:521.1519165039062\n",
      " Iter: 8000, loss:631.4782104492188\n",
      " Iter: 8100, loss:488.4271240234375\n",
      " Iter: 8200, loss:473.0728759765625\n",
      " Iter: 8300, loss:470.5853271484375\n",
      " Iter: 8400, loss:469.7755126953125\n"
     ]
    }
   ],
   "source": [
    "net.train(5000,batch_size)"
   ]
  },
  {
   "cell_type": "code",
   "execution_count": 45,
   "id": "112e3da5-a17d-4696-a3c3-57f5e807c09a",
   "metadata": {},
   "outputs": [
    {
     "data": {
      "text/plain": [
       "tensor([  87.3495,   17.1328,    2.2328,  ...,  300.4448,   68.8704,\n",
       "        1259.1094], device='cuda:0', grad_fn=<MulBackward0>)"
      ]
     },
     "execution_count": 45,
     "metadata": {},
     "output_type": "execute_result"
    }
   ],
   "source": [
    "net.source()"
   ]
  },
  {
   "cell_type": "code",
   "execution_count": 72,
   "id": "9e845d54-5d2b-4314-a19d-c2a16028c22c",
   "metadata": {},
   "outputs": [
    {
     "name": "stdout",
     "output_type": "stream",
     "text": [
      "shape: (21, 21, 21)\n"
     ]
    },
    {
     "data": {
      "image/png": "[encoded data removed]",
      "text/plain": [
       "<Figure size 640x480 with 2 Axes>"
      ]
     },
     "metadata": {},
     "output_type": "display_data"
    }
   ],
   "source": [
    "from mpl_toolkits.mplot3d import Axes3D\n",
    "import matplotlib.pyplot as plt\n",
    "from matplotlib import cm\n",
    "from matplotlib.ticker import LinearLocator, FormatStrFormatter\n",
    "\n",
    "\n",
    "fig = plt.figure()\n",
    "ax = plt.axes(projection='3d')\n",
    "dx = 0.005\n",
    "x = torch.arange(0,0.1+dx,dx)\n",
    "y = torch.arange(0,0.1+dx,dx)\n",
    "t = torch.ones_like(x)*2\n",
    "X = torch.stack(torch.meshgrid(x,y,t)).reshape(3,-1).T.to(device)\n",
    "\n",
    "\n",
    "u_pred = net.model(X)\n",
    "um = u_pred.data.cpu().numpy()\n",
    "um = um.reshape(21,21,21)\n",
    "\n",
    "x = np.arange(0,0.1+dx,dx)\n",
    "y = np.arange(0,0.1+dx,dx)\n",
    "xm, ym = np.meshgrid(x,y)\n",
    "\n",
    "print(f\"shape: {um.shape}\")\n",
    "\n",
    "surf = ax.plot_surface(xm, ym, um[:,:,3], cmap=cm.coolwarm, linewidth=0, antialiased=False)\n",
    "\n",
    "ax.zaxis.set_major_locator(LinearLocator(10))\n",
    "ax.zaxis.set_major_formatter(FormatStrFormatter('%.02f'))\n",
    "ax.set_ylabel(\"y coord\")\n",
    "ax.set_xlabel(\"x coord\")\n",
    "fig.colorbar(surf, shrink=.5, aspect=5)\n",
    "plt.show()"
   ]
  },
  {
   "cell_type": "code",
   "execution_count": null,
   "id": "1bb1add5-4c2d-4127-8eda-ec8a5c8c136a",
   "metadata": {},
   "outputs": [],
   "source": [
    "def solution(x,y,t):\n",
    "    return np.exp(x + y) * np.cos(x + y + 4*t)\n",
    "anal_sol = solution(x,y,2)\n",
    "mse=np.mean((anal_sol-u_pred.data.cpu().numpy())**2)\n"
   ]
  },
  {
   "cell_type": "code",
   "execution_count": null,
   "id": "d035d0c7-aa15-426c-aee2-31aadfcb29be",
   "metadata": {},
   "outputs": [],
   "source": [
    "mse"
   ]
  },
  {
   "cell_type": "code",
   "execution_count": null,
   "id": "3e15b18c-d26c-4328-b927-40e4eacccabe",
   "metadata": {},
   "outputs": [],
   "source": [
    "x.shape[0]"
   ]
  },
  {
   "cell_type": "code",
   "execution_count": null,
   "id": "87ee67c3-38e1-4bf6-9b58-be3a9aea23b0",
   "metadata": {},
   "outputs": [],
   "source": [
    "u_pred.shape"
   ]
  },
  {
   "cell_type": "code",
   "execution_count": null,
   "id": "875b459e-330b-4a82-a13e-f2fa803f2c4b",
   "metadata": {},
   "outputs": [],
   "source": []
  }
 ],
 "metadata": {
  "kernelspec": {
   "display_name": "Python 3 (ipykernel)",
   "language": "python",
   "name": "python3"
  },
  "language_info": {
   "codemirror_mode": {
    "name": "ipython",
    "version": 3
   },
   "file_extension": ".py",
   "mimetype": "text/x-python",
   "name": "python",
   "nbconvert_exporter": "python",
   "pygments_lexer": "ipython3",
   "version": "3.9.16"
  }
 },
 "nbformat": 4,
 "nbformat_minor": 5
}
